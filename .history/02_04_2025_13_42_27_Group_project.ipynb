{
 "cells": [
  {
   "cell_type": "markdown",
   "id": "c289d7a6-1f72-47bd-b337-f4a241ea9ddc",
   "metadata": {},
   "source": [
    "## Group Project (#15)\n",
    "#### Members: \n",
    "- Bhoomika Yadav\n",
    "- Yubin Kim\n",
    "- Karen Rianika Tanuwijaya\n",
    "- Yasin Mir "
   ]
  },
  {
   "cell_type": "markdown",
   "id": "64889d56-25ee-4df9-b44a-7020579f5df8",
   "metadata": {},
   "source": [
    "## Introduction \n",
    "\n"
   ]
  },
  {
   "cell_type": "markdown",
   "id": "a5401a05-97df-4d4f-b28b-9a9ea0eae234",
   "metadata": {},
   "source": [
    "A predictive question is where a certain class or a specific numerical value of a future observation is estimated using data that already exists. To predict the usage of a video game server, specifically to predict a player’s hours playing the game, we are going to use a method called regression using the k-nearest neighbors model. Regression is a method used to predict a quantitative value for our future observations. Since we are using the k-nearest neighbors model, we take the average number of neighbors close to each value of the predictor and make a curve that fits the total observations. This curve contains the average location of all the points close to the predictor value thus we can predict the numerical value of our future observation. \n"
   ]
  },
  {
   "cell_type": "markdown",
   "id": "0d3738ff-e4f3-4562-b852-dd90e2eee8ca",
   "metadata": {},
   "source": [
    "#### Question \n",
    "The question we chose to answer is: Which kinds of players are most likely to contribute a large amount of data so that so that we can target those players in our recruiting efforts. \n",
    "The specific question we are trying to explore and answer is: Can the `experience` of the players be used to predict the total play time `played_hours` of the player in the players dataset? "
   ]
  },
  {
   "cell_type": "markdown",
   "id": "ae04bea3-2a9e-434f-b4f9-632d54e5c6a1",
   "metadata": {},
   "source": [
    "### Data Description of the players.csv dataset \n",
    "To address this question, the players.csv dataset was used. This dataset was selected as it contains the necessay information required to answer the question, that is it provides data on each player's experience level and the total number of hours they have spent playing the game, both of which are essential to make a prediction on our question. \n",
    "\n",
    "##### Overview of the variables \n",
    "|Name        |Type                |Description| \n",
    "|:--------   |:---------          |:----------|\n",
    "|`experience`  |Character (Categorical)| Player's skill level (Amateur, Beginner, Regular, Veteran and Pro)|         \n",
    "|`subscribe`   |Logical (a boolean)| Whether or not the player has a subscription| \n",
    "|`hashedEmail` |Character| Unique identifier for each player |\n",
    "|`played_hours`|Double| Total hours spent on the server by player |\n",
    "|`name`        |Character| Player's name |\n",
    "|`gender`     |Character (Categorical)|  Player's gender (7 categories)|\n",
    "|`Age`         |Double| Player's age (8 - 50 years)|\n",
    "\n",
    "# \n",
    "- Most players are `Amateur`\n",
    "- Most players have the subscription for the game\n",
    "- Most player are `Male`\n",
    "- Average play time: around 5.85hrs.\n",
    "- Average age: 20-21 years old. "
   ]
  },
  {
   "cell_type": "markdown",
   "id": "8c82a5b4-be11-4455-a59e-8fb9be0ad1b7",
   "metadata": {},
   "source": [
    "### Analysis "
   ]
  },
  {
   "cell_type": "markdown",
   "id": "9ef7a438-1bee-4f11-9761-b9c93fbaf49f",
   "metadata": {},
   "source": [
    "The necessary libraries are loaded and the players.csv dataset was imported using a reproducible method that accesses the raw data through a direct link."
   ]
  },
  {
   "cell_type": "code",
   "execution_count": null,
   "id": "6d6a9bdf-4e60-4988-b538-df4fe5d376b2",
   "metadata": {},
   "outputs": [],
   "source": [
    "#Loading the libraries needed\n",
    "library(tidyverse) \n",
    "library(repr)\n",
    "library(tidymodels)\n",
    "library(GGally)\n",
    "library(ISLR)\n",
    "library(ggtext)"
   ]
  },
  {
   "cell_type": "code",
   "execution_count": null,
   "id": "26e83739-b158-46ce-aec6-be7ea088b236",
   "metadata": {},
   "outputs": [],
   "source": [
    "#Loading the players.csv data\n",
    "players_data <- read_csv(\"https://raw.githubusercontent.com/bhxxmika/group_project_files/refs/heads/main/players.csv\") \n",
    "players_data|>\n",
    "head()"
   ]
  },
  {
   "cell_type": "markdown",
   "id": "27498b3e-2d1a-4794-a587-c2a88c08ee72",
   "metadata": {},
   "source": [
    "### Figure 1: Analysing the relationship between `experience` and `played_hours` \n"
   ]
  },
  {
   "cell_type": "markdown",
   "id": "41532904-f47e-4b5c-aef8-c49abc375515",
   "metadata": {},
   "source": [
    "To determine whether player experience level is a meaningful predictor of playtime and to identify trends within the dataset, a bar graph of average hours played by experience level is generated. Appropriate graph dimensions are set, and rows where `played_hours` = 0 are removed, as they represent players who did not engage with the game and could skew the analysis. The data is grouped by experience level, and the mean played_hours is calculated for each group. This information is then visualized using a bar chart, with experience level on the x-axis and average hours played on the y-axis, to highlight potential relationships between skill level and playtime."
   ]
  },
  {
   "cell_type": "code",
   "execution_count": null,
   "id": "765df87d-7c1d-45e3-88b4-fc9e68df994c",
   "metadata": {},
   "outputs": [],
   "source": [
    "\n",
    "#setting the height and width for the graph \n",
    "options(repr.plot.width = 11, repr.plot.height = 8)\n",
    "\n",
    "#grouping the dataset by experience \n",
    "players_by_lvl <- players_data |> \n",
    "                filter(played_hours > 0) |>\n",
    "                group_by(experience) |>\n",
    "                summarize(played_hours_mean = mean(played_hours)) \n",
    "players_by_lvl \n",
    "\n",
    "\n",
    "# Plotting the relationhip between `experience` and `played_hours`\n",
    "experience_vs_hours <- players_by_lvl |> \n",
    "                    ggplot(aes(x = experience, y = played_hours_mean, fill = experience)) + \n",
    "                    geom_bar(stat = \"identity\") + \n",
    "                    labs(x = \"Experience Level\", y = \"Average Hours Played\", title = \"**Figure 1:** Average Hours Vs. Player's Skill level\", fill = \"Experience Level\") + \n",
    "                    theme(text = element_text(size = 14),plot.title=element_markdown()) \n",
    "                    \n",
    "experience_vs_hours \n"
   ]
  },
  {
   "cell_type": "markdown",
   "id": "11dd9ce0-161c-41fa-a298-1805415a4487",
   "metadata": {},
   "source": [
    "The **Figure 1** bar plot reveals that players classified as `Regular` have the highest average playtime by a significant margin relative to `Amateur`,`Beginner`,`pro`, and `vetran` players. The trend showcased by this graph indeed supports using experience level as a meaningful predictor to model player behaviour."
   ]
  },
  {
   "cell_type": "markdown",
   "id": "16770211-ba4d-44a2-bef7-6d7a458de7a9",
   "metadata": {},
   "source": [
    "Next, the dataset is wrangled to prepare for modelling. The relevant columns `experience` and `played_hours` are first selected. Like before, rows with `played_hours`= 0 are removed to ensure only active players are included in the analysis. The experience variable is then recoded into numeric values to be compatible with the k-nearest neighbors algorithm, which uses on numerical distance calculations. Then the dataset is split into training and testing sets using a 75/25 ratio."
   ]
  },
  {
   "cell_type": "code",
   "execution_count": null,
   "id": "abf4b753-8a12-498f-95b0-66306c4fb882",
   "metadata": {},
   "outputs": [],
   "source": [
    "# Wrangling the data \n",
    "set.seed(2000)\n",
    "players_tidy <- players_data |>  \n",
    "                select(experience, played_hours) |> \n",
    "                filter(played_hours > 0) |>\n",
    "                mutate(experience = fct_recode(experience, \"1\" = \"Amateur\", \"2\" = \"Beginner\", \"3\" = \"Regular\", \"4\" = \"Veteran\", \"5\" = \"Pro\")) |> \n",
    "                mutate(experience = as.numeric(experience)) \n",
    "            \n",
    "head(players_tidy) \n",
    "tail(players_tidy)\n",
    "players_split <- players_tidy |> \n",
    "                    initial_split(prop = 0.75, strata = played_hours) \n",
    "players_training <- training(players_split) \n",
    "players_testing <- testing(players_split) \n",
    "head(players_training) \n",
    "head(players_testing) "
   ]
  },
  {
   "cell_type": "markdown",
   "id": "f9d03ece-8163-4f1c-ac3a-9b655225b9b1",
   "metadata": {},
   "source": [
    "Now the wrangled data can be used for knn regression.\n",
    "Firstly, A k-nearest neighbors regression model is specified using the kknn engine. The recipe defines the model formula and includes centering and scaling steps, although these have little effect here due to the categorical nature of the predictor.\n"
   ]
  },
  {
   "cell_type": "code",
   "execution_count": null,
   "id": "64e97cff-a601-4159-9a82-6107e87ea23b",
   "metadata": {},
   "outputs": [],
   "source": [
    "#knn regression \n",
    "set.seed(2000) \n",
    "knn_spec <- nearest_neighbor(weight_func = \"rectangular\", neighbors = tune()) |> \n",
    "            set_engine(\"kknn\") |> \n",
    "            set_mode(\"regression\") \n",
    "\n",
    "knn_recipe <- recipe(played_hours ~ experience, data = players_training) |> \n",
    "                step_scale(all_predictors()) |> \n",
    "                step_center(all_predictors()) \n",
    "knn_vfold <- vfold_cv(players_training, v = 5, strata = played_hours) \n",
    "\n",
    "knn_workflow <- workflow() |> \n",
    "             add_recipe(knn_recipe) |> \n",
    "             add_model(knn_spec) \n",
    "k_values <- tibble(neighbors = seq(from = 1, to = 50, by = 1)) \n",
    "\n",
    "knn_results <- knn_workflow |> \n",
    "                tune_grid(resamples = knn_vfold, grid = k_values) |> \n",
    "                collect_metrics() \n",
    "\n",
    "knn_min <- knn_results |> \n",
    "            filter(.metric == \"rmse\") |> \n",
    "            filter(mean == min(mean)) \n",
    "knn_min #FOUND THAT 10 IS THE BEST K VAL \n",
    "knn_min_val <- knn_min |> \n",
    "                pull(neighbors) \n",
    "knn_min_val\n",
    "\n",
    "players_spec <- nearest_neighbor(weight_func = \"rectangular\", neighbors = knn_min_val) |> \n",
    "                set_engine(\"kknn\") |> \n",
    "                set_mode(\"regression\") \n",
    "players_fit <- workflow() |> \n",
    "                add_recipe(knn_recipe) |> \n",
    "                add_model(players_spec) |> \n",
    "                fit(data = players_training) \n",
    "knn_almost_rmspe <- players_fit |> \n",
    "                        predict(players_testing) |>\n",
    "                        bind_cols(players_testing) |> \n",
    "                        metrics(truth = played_hours, estimate = .pred) \n",
    "knn_almost_rmspe\n",
    "knn_rmspe <- knn_almost_rmspe |> \n",
    "                filter(.metric == \"rmse\") |> \n",
    "                select(.estimate) |> \n",
    "                pull() \n",
    "knn_rmspe \n"
   ]
  },
  {
   "cell_type": "code",
   "execution_count": null,
   "id": "8bb669f3-8de9-4cc2-aa93-2d22c9e4f059",
   "metadata": {},
   "outputs": [],
   "source": []
  },
  {
   "cell_type": "code",
   "execution_count": null,
   "id": "890d6a27-71d5-43b9-a593-1dc5c6e1db04",
   "metadata": {},
   "outputs": [],
   "source": []
  }
 ],
 "metadata": {
  "kernelspec": {
   "display_name": "R",
   "language": "R",
   "name": "ir"
  },
  "language_info": {
   "codemirror_mode": "r",
   "file_extension": ".r",
   "mimetype": "text/x-r-source",
   "name": "R",
   "pygments_lexer": "r",
   "version": "4.3.3"
  }
 },
 "nbformat": 4,
 "nbformat_minor": 5
}
