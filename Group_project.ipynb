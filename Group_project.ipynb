{
 "cells": [
  {
   "cell_type": "markdown",
   "id": "c289d7a6-1f72-47bd-b337-f4a241ea9ddc",
   "metadata": {},
   "source": [
    "## Group Project (#15)\n",
    "#### Members: \n",
    "- Bhoomika Yadav\n",
    "- Yubin Kim\n",
    "- Karen Rianika Tanuwijaya\n",
    "- Yasin Mir "
   ]
  },
  {
   "cell_type": "markdown",
   "id": "64889d56-25ee-4df9-b44a-7020579f5df8",
   "metadata": {},
   "source": [
    "## Introduction \n",
    "\n"
   ]
  },
  {
   "cell_type": "markdown",
   "id": "a5401a05-97df-4d4f-b28b-9a9ea0eae234",
   "metadata": {},
   "source": [
    "A predictive question is where a certain class or a specific numerical value of a future observation is estimated using data that already exists. To predict the usage of a video game server, specifically to predict a player’s hours playing the game, we are going to use a method called regression using the k-nearest neighbors model. Regression is a method used to predict a quantitative value for our future observations. Since we are using the k-nearest neighbors model, we take the average number of neighbors close to each value of the predictor and make a curve that fits the total observations. This curve contains the average location of all the points close to the predictor value thus we can predict the numerical value of our future observation. \n"
   ]
  },
  {
   "cell_type": "markdown",
   "id": "0d3738ff-e4f3-4562-b852-dd90e2eee8ca",
   "metadata": {},
   "source": [
    "#### Question \n",
    "The question we chose to answer is: Which kinds of players are most likely to contribute a large amount of data so that so that we can target those players in our recruiting efforts. \n",
    "The specific question we are trying to explore and answer is: Can the `experience` of the players be used to predict the total play time `played_hours` of the player in the players dataset? "
   ]
  },
  {
   "cell_type": "markdown",
   "id": "ae04bea3-2a9e-434f-b4f9-632d54e5c6a1",
   "metadata": {},
   "source": [
    "### Data Description of the players.csv dataset \n",
    "To address this question, the players.csv dataset was used. This dataset was selected as it contains the necessay information required to answer the question, that is it provides data on each player's experience level and the total number of hours they have spent playing the game, both of which are essential to make a prediction on our question. \n",
    "\n",
    "##### Overview of the variables \n",
    "|Name        |Type                |Description| \n",
    "|:--------   |:---------          |:----------|\n",
    "|`experience`  |Character (Categorical)| Player's skill level (Amateur, Beginner, Regular, Veteran and Pro)|         \n",
    "|`subscribe`   |Logical (a boolean)| Whether or not the player has a subscription| \n",
    "|`hashedEmail` |Character| Unique identifier for each player |\n",
    "|`played_hours`|Double| Total hours spent on the server by player |\n",
    "|`name`        |Character| Player's name |\n",
    "|`gender`     |Character (Categorical)|  Player's gender (7 categories)|\n",
    "|`Age`         |Double| Player's age (8 - 50 years)|\n",
    "\n",
    "# \n",
    "- Most players are `Amateur`\n",
    "- Most players have the subscription for the game\n",
    "- Most player are `Male`\n",
    "- Average play time: around 5.85hrs.\n",
    "- Average age: 20-21 years old. "
   ]
  },
  {
   "cell_type": "code",
   "execution_count": null,
   "id": "db0db9df-b6db-4976-943e-439f052beb02",
   "metadata": {},
   "outputs": [],
   "source": []
  },
  {
   "cell_type": "code",
   "execution_count": null,
   "id": "6d6a9bdf-4e60-4988-b538-df4fe5d376b2",
   "metadata": {},
   "outputs": [],
   "source": []
  }
 ],
 "metadata": {
  "kernelspec": {
   "display_name": "R",
   "language": "R",
   "name": "ir"
  },
  "language_info": {
   "codemirror_mode": "r",
   "file_extension": ".r",
   "mimetype": "text/x-r-source",
   "name": "R",
   "pygments_lexer": "r",
   "version": "4.3.3"
  }
 },
 "nbformat": 4,
 "nbformat_minor": 5
}
